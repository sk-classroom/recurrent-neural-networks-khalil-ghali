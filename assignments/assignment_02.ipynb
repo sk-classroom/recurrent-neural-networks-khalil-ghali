{
 "cells": [
  {
   "cell_type": "markdown",
   "metadata": {},
   "source": [
    "[![Open In Colab](https://colab.research.google.com/assets/colab-badge.svg)](http://colab.research.google.com/github/sk-classroom/asc-recurrent-neural-nets/blob/main/assignments/assignment_02.ipynb)\n",
    "\n",
    "We will be creating a character-level LSTM trained on The Foundation by Isaac Asimov.  \n",
    "\n",
    "This character-level LSTM will read the book at character levels and be trained to predict the next character. By repeating the next character predictions, the LSTM will generate text in style similar to Isaac Asimov (if you train well).  \n",
    "\n",
    "# Data \n",
    "\n",
    "We will use the text in [archive.org](https://archive.org/stream/AsimovTheFoundation/Asimov_the_foundation_djvu.txt). The text is preprocessed and saved in \"data/the-foundation.txt\".  \n"
   ]
  },
  {
   "cell_type": "code",
   "execution_count": 1,
   "metadata": {},
   "outputs": [],
   "source": [
    "import numpy as np\n",
    "import re\n",
    "\n",
    "root = \"../\"\n",
    "\n",
    "# %% Extract the main content of the book\n",
    "## Reading and processing text\n",
    "with open(f\"{root}/data/the-foundation.txt\", \"r\", encoding=\"utf8\") as fp:\n",
    "    full_text_data = fp.read()\n",
    "\n",
    "# Remove linebreaks from the text\n",
    "full_text_data = full_text_data.replace(\"\\n\", \" \")\n",
    "full_text_data = full_text_data.replace(\"\\r\", \" \")\n",
    "full_text_data = full_text_data.replace(\"\\\\'\", \"'\")\n",
    "\n",
    "# Replace multiple spaces with a single space\n",
    "full_text_data = re.sub(r\"\\s+\", \" \", full_text_data)"
   ]
  },
  {
   "cell_type": "markdown",
   "metadata": {},
   "source": [
    "We will extract the content of the book, and convert the text into a sequence of integers. \n"
   ]
  },
  {
   "cell_type": "code",
   "execution_count": 2,
   "metadata": {},
   "outputs": [
    {
     "name": "stdout",
     "output_type": "stream",
     "text": [
      "Total Length: 1215346\n",
      "Unique Characters: 83\n"
     ]
    }
   ],
   "source": [
    "start_indx = full_text_data.find(\"THE PSYCHOHISTORIANS\")\n",
    "end_indx = len(full_text_data)\n",
    "\n",
    "full_text_data = full_text_data[start_indx:end_indx]\n",
    "char_set = set(full_text_data)\n",
    "print(\"Total Length:\", len(full_text_data))\n",
    "print(\"Unique Characters:\", len(char_set))\n",
    "\n",
    "# Tokenize the text into integers reresenting characters\n",
    "## Creating a lookup table\n",
    "chars = sorted(char_set)\n",
    "char_to_int = {ch: i for i, ch in enumerate(chars)}\n",
    "int_to_char = np.array(chars)"
   ]
  },
  {
   "cell_type": "markdown",
   "metadata": {},
   "source": [
    "Since the book is too long, we will only use the first 100000 characters for the training. \n"
   ]
  },
  {
   "cell_type": "code",
   "execution_count": 3,
   "metadata": {},
   "outputs": [],
   "source": [
    "text_data = full_text_data[:100000]"
   ]
  },
  {
   "cell_type": "markdown",
   "metadata": {},
   "source": [
    "For convenience, let's convert the text into an integer sequence:\n"
   ]
  },
  {
   "cell_type": "code",
   "execution_count": 4,
   "metadata": {},
   "outputs": [],
   "source": [
    "text_as_int = np.array(list(map(lambda x: char_to_int[x], text_data)), dtype=np.int32)"
   ]
  },
  {
   "cell_type": "code",
   "execution_count": 5,
   "metadata": {},
   "outputs": [
    {
     "name": "stdout",
     "output_type": "stream",
     "text": [
      "Text: THE PSYCHOHISTORIANS \n",
      "Encoded: [45 33 30  0 41 44 50 28 33 40 33 34 44 45 40 43 34 26 39 44]\n"
     ]
    }
   ],
   "source": [
    "# The text_as_int contains the encoded values for all the characters in the text. Let's take a look at how part of our text is encoded:\n",
    "print(\"Text:\", text_data[:20], \"\\nEncoded:\", text_as_int[:20])"
   ]
  },
  {
   "cell_type": "markdown",
   "metadata": {},
   "source": [
    "## Create the dataset for training the Long-term short memory \n",
    "\n",
    "In this exercise, we will feed a fixed number of characters into the LSTM to predict the next character. While it is possible to feed all previous characters, it is not practical due to the memory and computation time. \n",
    "\n",
    "More concretely, for example, given text \n"
   ]
  },
  {
   "cell_type": "code",
   "execution_count": 6,
   "metadata": {},
   "outputs": [],
   "source": [
    "example_text = \"Fox jumps over the lazy dog\""
   ]
  },
  {
   "cell_type": "markdown",
   "metadata": {},
   "source": [
    "by using five previous characters, we predict the next character, namely, \n",
    "\n",
    "| Input | Target | \n",
    "|-------|--------|\n",
    "| 'F', 'o', 'x', ' ', 'j' | 'u' |\n",
    "| 'o', 'x', ' ', 'j', 'u' | 'm' |\n",
    "| 'x', ' ', 'j', 'u', 'm' | 'p' |\n",
    "| ' ', 'j', 'u', 'm', 'p' | 's' |\n",
    "| 'j', 'u', 'm', 'p', 's' | ' ' |\n",
    "| 'u', 'm', 'p', 's', ' ' | 'o' |\n",
    "| 'm', 'p', 's', ' ', 'o' | 'v' |\n",
    "\n",
    "The input and target data can be created by striding the text by a fixed number of characters. \n"
   ]
  },
  {
   "cell_type": "code",
   "execution_count": 7,
   "metadata": {},
   "outputs": [
    {
     "name": "stdout",
     "output_type": "stream",
     "text": [
      "Original alphabet sequence: ['F', 'o', 'x', ' ', 'j', 'u', 'm', 'p', 's', ' ', 'o', 'v', 'e', 'r', ' ', 't', 'h', 'e', ' ', 'l', 'a', 'z', 'y', ' ', 'd', 'o', 'g']\n",
      "Input: [['F', 'o', 'x', ' ', 'j'], ['o', 'x', ' ', 'j', 'u'], ['x', ' ', 'j', 'u', 'm'], [' ', 'j', 'u', 'm', 'p'], ['j', 'u', 'm', 'p', 's']]\n",
      "Target: ['u', 'm', 'p', 's', ' ']\n"
     ]
    }
   ],
   "source": [
    "import pandas as pd\n",
    "\n",
    "\n",
    "def seq2input_target(seq, window_length):\n",
    "    input_text = [\n",
    "        list(seq[i : i + window_length]) for i in range(len(seq) - window_length)\n",
    "    ]\n",
    "    target_text = list(seq[window_length:])\n",
    "    return input_text, target_text\n",
    "\n",
    "\n",
    "chart_seq = list(example_text)\n",
    "\n",
    "print(\"Original alphabet sequence:\", chart_seq)\n",
    "\n",
    "inputs, targets = seq2input_target(chart_seq, 5)\n",
    "\n",
    "print(\"Input:\", inputs[:5])\n",
    "print(\"Target:\", targets[:5])"
   ]
  },
  {
   "cell_type": "markdown",
   "metadata": {},
   "source": [
    "It is more efficient to use the integer representation of the text to create the input and target data. \n"
   ]
  },
  {
   "cell_type": "code",
   "execution_count": 8,
   "metadata": {},
   "outputs": [
    {
     "name": "stdout",
     "output_type": "stream",
     "text": [
      "Input: [[31, 67, 76, 0, 62], [67, 76, 0, 62, 73], [76, 0, 62, 73, 65], [0, 62, 73, 65, 68], [62, 73, 65, 68, 71]]\n",
      "Target: [73, 65, 68, 71, 0]\n"
     ]
    }
   ],
   "source": [
    "example_text_as_int = [char_to_int[ch] for ch in example_text]\n",
    "inputs, targets = seq2input_target(example_text_as_int, 5)\n",
    "\n",
    "print(\"Input:\", inputs[:5])\n",
    "print(\"Target:\", targets[:5])"
   ]
  },
  {
   "cell_type": "markdown",
   "metadata": {},
   "source": [
    "By using the seq2input_target function, define a torch dataset and data loader. In this exercise, we will use the length of 30 characters for the input. Set the batch size to 32~128. \n"
   ]
  },
  {
   "cell_type": "code",
   "execution_count": 11,
   "metadata": {},
   "outputs": [],
   "source": [
    "import torch\n",
    "\n",
    "\n",
    "# TODO: Create a dataset for the LSTM model\n",
    "class LSTMDataset(torch.utils.data.Dataset):\n",
    "    def __init__(self, seq_data, window_length):\n",
    "        \"\"\"\n",
    "        Args:\n",
    "\n",
    "        seq_data: The sequence data.\n",
    "            length: The length of the sequence to be used for the input and target\n",
    "        window_length: int\n",
    "        \"\"\"\n",
    "        self.window_length = window_length\n",
    "        self.seq_data = seq_data\n",
    "        self.inputs, self.targets = seq2input_target(seq_data, window_length)\n",
    "        self.inputs = torch.tensor(self.inputs, dtype=torch.long)\n",
    "        self.targets = torch.tensor(self.targets, dtype=torch.long)\n",
    "        \n",
    "\n",
    "    def __len__(self):\n",
    "        return len(self.inputs)\n",
    "\n",
    "    def __getitem__(self, idx):\n",
    "        return self.inputs[idx], self.targets[idx]\n",
    "\n",
    "\n",
    "dataset = LSTMDataset(text_as_int, window_length=15)\n",
    "dataloader = torch.utils.data.DataLoader(\n",
    "    dataset, batch_size=512, shuffle=False, drop_last=True\n",
    ")"
   ]
  },
  {
   "cell_type": "markdown",
   "metadata": {},
   "source": [
    "# Let's define the LSTM model. \n",
    "* Define the LSTM by using torch.nn. Module\n",
    "* In addition to the components of the LSTM, add a linear layer that converts the hidden state to the output of size equal to the number of unique characters.\n"
   ]
  },
  {
   "cell_type": "code",
   "execution_count": 14,
   "metadata": {},
   "outputs": [],
   "source": [
    "import torch\n",
    "import torch.nn as nn\n",
    "\n",
    "\n",
    "# TODO: Define the LSTM model\n",
    "class LSTM(torch.nn.Module):\n",
    "\n",
    "    def __init__(self, input_size, hidden_size, output_size):\n",
    "        super(LSTM, self).__init__()\n",
    "        self.input_size = input_size\n",
    "        self.hidden_size = hidden_size\n",
    "        self.output_size = output_size\n",
    "        # TODO: Define the gates\n",
    "        self.lin_gate_cell =torch.nn.Linear(input_size + hidden_size, hidden_size)\n",
    "        self.lin_gate_input =torch.nn.Linear(input_size + hidden_size, hidden_size)\n",
    "        self.lin_gate_hidden =torch.nn.Linear(input_size + hidden_size, hidden_size)\n",
    "\n",
    "        # TODO: Define the linear transformations between the cell states, inputs, and hidden states\n",
    "        self.lin_input2cell = torch.nn.Linear(input_size + hidden_size, hidden_size)\n",
    "        self.lin_cell2hidden = torch.nn.Linear(hidden_size, hidden_size)\n",
    "\n",
    "        # TODO: Define the linear layer that maps the hidden state to the output of size output_size\n",
    "        self.lin_hidden2output = torch.nn.Linear(hidden_size, output_size)\n",
    "\n",
    "        # TODO: Define the activation functions, Tanh and Sigmoid\n",
    "        self.tanh = torch.nn.Tanh()\n",
    "        self.sigmoid = torch.nn.Sigmoid()\n",
    "\n",
    "    def forward(self, input, hidden, cell):\n",
    "        # TODO: Define the forward pass\n",
    "\n",
    "        combined = torch.cat((input, hidden), 1)\n",
    "\n",
    "        cell = cell * self.sigmoid(self.lin_gate_cell(combined))\n",
    "\n",
    "        cell_add = self.tanh(self.lin_input2cell(combined))\n",
    "        cell_add = cell_add * self.sigmoid(self.lin_gate_input(combined))\n",
    "        cell = cell + cell_add\n",
    "\n",
    "        next_hidden = self.tanh(self.lin_cell2hidden(cell))\n",
    "        next_hidden = next_hidden * self.sigmoid(self.lin_gate_hidden(combined))\n",
    "\n",
    "        output = self.lin_hidden2output(next_hidden)\n",
    "\n",
    "\n",
    "        return output, next_hidden, cell\n",
    "\n",
    "\n",
    "lstm = LSTM(input_size=len(char_set), hidden_size=128, output_size=len(char_set))"
   ]
  },
  {
   "cell_type": "markdown",
   "metadata": {},
   "source": [
    "# Train the LSTM!\n"
   ]
  },
  {
   "cell_type": "markdown",
   "metadata": {},
   "source": [
    "## Preparation\n",
    "\n",
    "Define the loss and the optimizer.\n"
   ]
  },
  {
   "cell_type": "code",
   "execution_count": 15,
   "metadata": {},
   "outputs": [],
   "source": [
    "criterion = torch.nn.CrossEntropyLoss()\n",
    "optimizer = torch.optim.Adam(lstm.parameters(), lr=5e-3)"
   ]
  },
  {
   "cell_type": "markdown",
   "metadata": {},
   "source": [
    "Define a utility function to run the LSTM model on the sequences.\n"
   ]
  },
  {
   "cell_type": "code",
   "execution_count": 16,
   "metadata": {},
   "outputs": [
    {
     "data": {
      "text/plain": [
       "tensor([[-0.0673, -0.0495,  0.0995, -0.0365,  0.0434, -0.0678,  0.0570,  0.0582,\n",
       "          0.0723,  0.0849,  0.0358, -0.0253,  0.0341, -0.0702,  0.0717, -0.1029,\n",
       "         -0.0368, -0.0317, -0.0732, -0.0365, -0.0517, -0.0516,  0.0198, -0.0213,\n",
       "         -0.0698, -0.0641,  0.0762,  0.0394,  0.1018, -0.0558, -0.0967, -0.0102,\n",
       "          0.0689,  0.0167,  0.0809,  0.0202,  0.0633,  0.0519, -0.0559, -0.0087,\n",
       "         -0.0608,  0.0362, -0.0174, -0.0228,  0.0533,  0.0612, -0.0890,  0.0819,\n",
       "          0.0132,  0.0126,  0.1228, -0.0259,  0.0025,  0.0181,  0.0463,  0.0258,\n",
       "         -0.0828,  0.0072,  0.0209, -0.0699, -0.0360, -0.0293, -0.0716,  0.0266,\n",
       "         -0.0662, -0.0178, -0.0667, -0.1013,  0.0408, -0.0593,  0.0484, -0.1043,\n",
       "         -0.0558, -0.0489, -0.0366, -0.0810, -0.0149, -0.0714, -0.0760,  0.0133,\n",
       "          0.0173, -0.0298, -0.0327],\n",
       "        [-0.0673, -0.0480,  0.0937, -0.0350,  0.0437, -0.0686,  0.0585,  0.0535,\n",
       "          0.0713,  0.0863,  0.0326, -0.0329,  0.0323, -0.0658,  0.0699, -0.0971,\n",
       "         -0.0418, -0.0334, -0.0671, -0.0378, -0.0496, -0.0460,  0.0193, -0.0199,\n",
       "         -0.0732, -0.0662,  0.0742,  0.0395,  0.1062, -0.0571, -0.0930, -0.0054,\n",
       "          0.0744,  0.0200,  0.0788,  0.0228,  0.0593,  0.0548, -0.0489, -0.0090,\n",
       "         -0.0587,  0.0370, -0.0193, -0.0163,  0.0523,  0.0616, -0.0895,  0.0811,\n",
       "          0.0136,  0.0141,  0.1217, -0.0325, -0.0062,  0.0206,  0.0458,  0.0286,\n",
       "         -0.0805,  0.0065,  0.0218, -0.0682, -0.0353, -0.0299, -0.0718,  0.0301,\n",
       "         -0.0648, -0.0194, -0.0673, -0.0986,  0.0373, -0.0596,  0.0441, -0.1036,\n",
       "         -0.0593, -0.0458, -0.0486, -0.0731, -0.0154, -0.0719, -0.0721,  0.0098,\n",
       "          0.0212, -0.0263, -0.0273],\n",
       "        [-0.0705, -0.0469,  0.0932, -0.0360,  0.0481, -0.0709,  0.0544,  0.0572,\n",
       "          0.0748,  0.0839,  0.0370, -0.0309,  0.0414, -0.0680,  0.0675, -0.0997,\n",
       "         -0.0370, -0.0330, -0.0661, -0.0315, -0.0478, -0.0501,  0.0159, -0.0192,\n",
       "         -0.0748, -0.0667,  0.0721,  0.0397,  0.0994, -0.0544, -0.0904,  0.0029,\n",
       "          0.0688,  0.0193,  0.0791,  0.0255,  0.0685,  0.0578, -0.0530, -0.0069,\n",
       "         -0.0565,  0.0346, -0.0115, -0.0232,  0.0515,  0.0583, -0.0822,  0.0855,\n",
       "          0.0160,  0.0141,  0.1195, -0.0331, -0.0024,  0.0218,  0.0500,  0.0302,\n",
       "         -0.0788,  0.0062,  0.0177, -0.0690, -0.0356, -0.0377, -0.0668,  0.0243,\n",
       "         -0.0656, -0.0172, -0.0689, -0.0964,  0.0381, -0.0626,  0.0508, -0.0983,\n",
       "         -0.0618, -0.0536, -0.0463, -0.0773, -0.0144, -0.0710, -0.0744,  0.0163,\n",
       "          0.0175, -0.0304, -0.0326]], grad_fn=<AddmmBackward0>)"
      ]
     },
     "execution_count": 16,
     "metadata": {},
     "output_type": "execute_result"
    }
   ],
   "source": [
    "# TODO: Define this function\n",
    "def run_ltsm(seqs, lstm, hidden_size):\n",
    "    \"\"\"Run the LSTM model on the sequences\n",
    "\n",
    "    Args:\n",
    "    seqs: The input sequences\n",
    "    lstm: The LSTM model\n",
    "    hidden_size: The size of the hidden states\n",
    "\n",
    "    Returns:\n",
    "    output: The output of the LSTM for the last character in the sequence\n",
    "    \"\"\"\n",
    "    n_seqs = seqs.shape[0]\n",
    "    seq_length = seqs.shape[1]\n",
    "\n",
    "    # TODO: Initialize the hidden and cell states\n",
    "    # Hint:\n",
    "    # - Use torch.zeros to initialize the hidden and cell states\n",
    "    hidden = torch.zeros(n_seqs, hidden_size, dtype=torch.float32)\n",
    "    cell = torch.zeros(n_seqs, hidden_size, dtype=torch.float32)\n",
    "\n",
    "    # TODO: Run the LSTM model on the sequences\n",
    "    # Hint:\n",
    "    # - Use torch.nn.functional.one_hot to convert the input sequences to one-hot vectors\n",
    "    # - Then, feed the one-hot vectors to the LSTM model\n",
    "    for i in range(seq_length):\n",
    "        vecs = torch.nn.functional.one_hot(seqs[:, i], num_classes=len(char_set)).float()\n",
    "        output, hidden, cell = lstm.forward(vecs, hidden, cell)\n",
    "    return output\n",
    "\n",
    "\n",
    "example_text_as_int = [char_to_int[ch] for ch in example_text]\n",
    "inputs, targets = seq2input_target(example_text_as_int, 5)\n",
    "\n",
    "run_ltsm(torch.tensor(inputs[:3]), lstm, 128)"
   ]
  },
  {
   "cell_type": "markdown",
   "metadata": {},
   "source": [
    "Let's train the LSTM model.\n"
   ]
  },
  {
   "cell_type": "code",
   "execution_count": 19,
   "metadata": {},
   "outputs": [
    {
     "name": "stderr",
     "output_type": "stream",
     "text": [
      "Epoch 1/1:   0%|          | 0/1 [00:00<?, ?it/s]\n"
     ]
    },
    {
     "ename": "NameError",
     "evalue": "name 'vocab_size' is not defined",
     "output_type": "error",
     "traceback": [
      "\u001b[0;31m---------------------------------------------------------------------------\u001b[0m",
      "\u001b[0;31mNameError\u001b[0m                                 Traceback (most recent call last)",
      "Cell \u001b[0;32mIn[19], line 31\u001b[0m\n\u001b[1;32m     25\u001b[0m optimizer\u001b[38;5;241m.\u001b[39mzero_grad()  \u001b[38;5;66;03m# Zero the gradients\u001b[39;00m\n\u001b[1;32m     27\u001b[0m \u001b[38;5;66;03m# Assuming inputs are already tensor. If not, convert them to tensor\u001b[39;00m\n\u001b[1;32m     28\u001b[0m \u001b[38;5;66;03m# inputs, targets = torch.tensor(inputs), torch.tensor(targets)\u001b[39;00m\n\u001b[1;32m     29\u001b[0m \n\u001b[1;32m     30\u001b[0m \u001b[38;5;66;03m# Run the model on inputs\u001b[39;00m\n\u001b[0;32m---> 31\u001b[0m outputs \u001b[38;5;241m=\u001b[39m run_ltsm(inputs, lstm, \u001b[38;5;241m128\u001b[39m, \u001b[43mvocab_size\u001b[49m)  \u001b[38;5;66;03m# Update function call as required\u001b[39;00m\n\u001b[1;32m     33\u001b[0m \u001b[38;5;66;03m# Compute loss\u001b[39;00m\n\u001b[1;32m     34\u001b[0m \u001b[38;5;66;03m# For CrossEntropyLoss, the input is expected to contain raw, unnormalized scores for each class\u001b[39;00m\n\u001b[1;32m     35\u001b[0m \u001b[38;5;66;03m# targets is expected to contain the indices of the true class for each input\u001b[39;00m\n\u001b[1;32m     36\u001b[0m loss \u001b[38;5;241m=\u001b[39m criterion(outputs, targets)\n",
      "\u001b[0;31mNameError\u001b[0m: name 'vocab_size' is not defined"
     ]
    }
   ],
   "source": [
    "from tqdm import tqdm\n",
    "\n",
    "n_epochs = 1\n",
    "loss_values = []\n",
    "\n",
    "# TODO: Train the LSTM model\n",
    "for epoch in range(n_epochs):\n",
    "    pbar = tqdm(dataloader)\n",
    "\n",
    "    for inputs, targets in pbar:\n",
    "        optimizer.zero_grad()\n",
    "\n",
    "        output = run_ltsm(inputs.long(), lstm, 128)\n",
    "\n",
    "        loss = criterion(output, targets)\n",
    "\n",
    "        loss.backward()\n",
    "        optimizer.step()\n",
    "        \n"
   ]
  },
  {
   "cell_type": "code",
   "execution_count": null,
   "metadata": {},
   "outputs": [],
   "source": [
    "import matplotlib.pyplot as plt\n",
    "\n",
    "plt.plot(loss_values)\n",
    "plt.xlabel(\"Batch\")\n",
    "plt.ylabel(\"Loss\")"
   ]
  },
  {
   "cell_type": "markdown",
   "metadata": {},
   "source": [
    "# Generate the text by using the trained LSTM\n",
    "\n",
    "We will generate the text by using the trained LSTM. \n",
    "\n",
    "1. We will feed the first 30 characters into the LSTM.\n",
    "2. Use the output to predict the next character. \n",
    "3. Add the predicted character to the input and remove the first character. \n",
    "4. Repeat this process to generate the text. \n",
    "\n",
    "A word is selected randomly based on the probability of the next character calculated by the softmax function as follows:\n",
    "$$\n",
    "P(w | w_{t-1}, w_{t-2}, \\ldots, w_1) = \\frac{\\exp(\\text{LSTM}(w)/T)}{\\sum_{w'} \\exp(\\text{LSTM}(w')/T)}, \n",
    "$$\n",
    "where $T>0$ represents the temperature parameter that controls the randomness of the output. A large temperature value results in a more random output, while a small temperature value results in a more deterministic output. \n"
   ]
  },
  {
   "cell_type": "code",
   "execution_count": null,
   "metadata": {},
   "outputs": [],
   "source": [
    "def generate_text(\n",
    "    lstm, start_text, length, window_length, char_to_int, int_to_char, temp\n",
    "):\n",
    "    \"\"\"Generate text using the LSTM model\n",
    "\n",
    "    Args:\n",
    "    lstm: The LSTM model\n",
    "    start_text: The starting text\n",
    "    length: The length of the generated text\n",
    "    window_length: The length of the input sequence\n",
    "    char_to_int: The character to integer mapping\n",
    "    int_to_char: The integer to character mapping\n",
    "\n",
    "    Returns:\n",
    "    generated_text: The generated text\n",
    "    \"\"\"\n",
    "    start_text_as_int = [char_to_int[ch] for ch in start_text]\n",
    "    generated_text = start_text_as_int\n",
    "\n",
    "    for i in range(length):\n",
    "        input_text = generated_text[-np.minimum(window_length, len(generated_text)) :]\n",
    "        input_text = torch.tensor(input_text).view(1, -1)\n",
    "        output = run_ltsm(input_text, lstm, 128)\n",
    "        output = torch.softmax(output / temp, dim=1).multinomial(num_samples=1)\n",
    "        generated_text.append(output.item())\n",
    "\n",
    "    generated_text = [int_to_char[i] for i in generated_text]\n",
    "    return \"\".join(generated_text)\n",
    "\n",
    "\n",
    "generate_text(lstm, \"My nam\", 100, 30, char_to_int, int_to_char, temp=0.3)"
   ]
  },
  {
   "cell_type": "markdown",
   "metadata": {},
   "source": [
    "The generated text would not be readable. Still, you might see some unique words used in the book. Such as \"Seldon\", \"Second Foundation\".\n",
    "\n",
    "Interested students are encouraged to expand the training data by changing the following line in the code at the third cell. \n",
    "\n",
    "```python \n",
    "#text_data = full_text_data[:10000] # old\n",
    "text_data = full_text_data[:1000000] # new \n",
    "#text_data = full_text_data[:10000000] # (if you have time) \n",
    "```\n"
   ]
  },
  {
   "cell_type": "markdown",
   "metadata": {},
   "source": [
    "If the learning is successful, the trained LTCM should be able to predict the next character better than a random prediction. \n"
   ]
  },
  {
   "cell_type": "code",
   "execution_count": null,
   "metadata": {},
   "outputs": [],
   "source": [
    "with open(f\"{root}/data/the-foundation-test.txt\", \"r\", encoding=\"utf8\") as fp:\n",
    "    eval_text = fp.read()\n",
    "\n",
    "eval_text = eval_text.replace(\"\\n\", \" \")\n",
    "eval_text = eval_text.replace(\"\\r\", \" \")\n",
    "eval_text"
   ]
  },
  {
   "cell_type": "code",
   "execution_count": 22,
   "metadata": {},
   "outputs": [
    {
     "name": "stdout",
     "output_type": "stream",
     "text": [
      "Accuracy: 0.1747\n",
      "Random Accuracy: 0.0120\n"
     ]
    }
   ],
   "source": [
    "eval_text_as_int = [char_to_int[ch] for ch in eval_text]\n",
    "inputs, targets = seq2input_target(eval_text_as_int, window_length=30)\n",
    "\n",
    "output = run_ltsm(torch.tensor(inputs), lstm, 128)\n",
    "predictions = torch.argmax(output, dim=1).view(-1).to(\"cpu\").numpy()\n",
    "\n",
    "# To char\n",
    "predictions = np.array([int_to_char[i] for i in predictions])\n",
    "targets = np.array([int_to_char[i] for i in targets])\n",
    "\n",
    "acc = np.mean(predictions == np.array(targets))\n",
    "rand_acc = 1.0 / len(char_set)\n",
    "\n",
    "print(f\"Accuracy: {acc:.4f}\")\n",
    "print(f\"Random Accuracy: {rand_acc:.4f}\")"
   ]
  },
  {
   "cell_type": "markdown",
   "metadata": {},
   "source": [
    "# Submit the results\n",
    "\n",
    "Please **git commit & push** the following two files created in the following cell. \n",
    "\n",
    "1. \"~/assignments/lstm_test_predictions.txt\" \n",
    "\n",
    "2. \"~/assignments/lstm_loss_values.csv\"\n"
   ]
  },
  {
   "cell_type": "code",
   "execution_count": 34,
   "metadata": {},
   "outputs": [],
   "source": [
    "with open(\"./lstm_test_predictions.txt\", \"w\", encoding=\"utf8\") as f:\n",
    "    for char in predictions:\n",
    "        f.write(char)\n",
    "\n",
    "pd.DataFrame(loss_values).to_csv(\"./lstm_loss_values.csv\", index=False)"
   ]
  }
 ],
 "metadata": {
  "kernelspec": {
   "display_name": "applsoftcomp",
   "language": "python",
   "name": "python3"
  },
  "language_info": {
   "codemirror_mode": {
    "name": "ipython",
    "version": 3
   },
   "file_extension": ".py",
   "mimetype": "text/x-python",
   "name": "python",
   "nbconvert_exporter": "python",
   "pygments_lexer": "ipython3",
   "version": "3.10.13"
  }
 },
 "nbformat": 4,
 "nbformat_minor": 2
}
